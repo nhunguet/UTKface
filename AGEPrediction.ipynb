{
 "cells": [
  {
   "cell_type": "markdown",
   "id": "bee13c6a",
   "metadata": {},
   "source": [
    "# Model to prediction AGE "
   ]
  },
  {
   "cell_type": "code",
   "execution_count": 89,
   "id": "001d5100",
   "metadata": {},
   "outputs": [],
   "source": [
    "import pandas as pd\n",
    "import numpy as np\n",
    "import os\n",
    "import matplotlib.pyplot as plt\n",
    "import cv2\n",
    "from keras.models import Sequential,load_model,Model\n",
    "from keras.layers import Conv2D,MaxPool2D,Dense,Dropout,BatchNormalization,Flatten,Input\n",
    "from sklearn.model_selection import train_test_split\n"
   ]
  },
  {
   "cell_type": "code",
   "execution_count": 90,
   "id": "0cae6c07",
   "metadata": {},
   "outputs": [],
   "source": [
    "path = \"UTKFace/UTKFace\"\n",
    "data = []\n",
    "age = []\n",
    "for img in os.listdir(path):\n",
    "  ages = img.split(\"_\")[0]\n",
    "  img = cv2.imread(str(path)+\"/\"+str(img))\n",
    "  img = cv2.cvtColor(img,cv2.COLOR_BGR2RGB)\n",
    "  data.append(np.array(img))\n",
    "  age.append(np.array(ages))\n",
    "age = np.array(age,dtype=np.int64)\n",
    "data = np.array(data)\n"
   ]
  },
  {
   "cell_type": "code",
   "execution_count": 91,
   "id": "fd339225",
   "metadata": {},
   "outputs": [
    {
     "name": "stdout",
     "output_type": "stream",
     "text": [
      "(23708, 200, 200, 3)\n",
      "(23708,)\n"
     ]
    }
   ],
   "source": [
    "print(data.shape)\n",
    "print(age.shape)"
   ]
  },
  {
   "cell_type": "code",
   "execution_count": 92,
   "id": "28ba8e50",
   "metadata": {},
   "outputs": [],
   "source": [
    "#split data to 90/10 to training and testing\n",
    "x_train,x_test,y_train,y_test = train_test_split(data,age, test_size=0.1, random_state=42)\n"
   ]
  },
  {
   "cell_type": "code",
   "execution_count": 93,
   "id": "66b1a803",
   "metadata": {},
   "outputs": [
    {
     "name": "stdout",
     "output_type": "stream",
     "text": [
      "Model: \"model_16\"\n",
      "_________________________________________________________________\n",
      "Layer (type)                 Output Shape              Param #   \n",
      "=================================================================\n",
      "input_27 (InputLayer)        [(None, 200, 200, 3)]     0         \n",
      "_________________________________________________________________\n",
      "conv2d_74 (Conv2D)           (None, 199, 199, 16)      208       \n",
      "_________________________________________________________________\n",
      "max_pooling2d_61 (MaxPooling (None, 99, 99, 16)        0         \n",
      "_________________________________________________________________\n",
      "batch_normalization_63 (Batc (None, 99, 99, 16)        64        \n",
      "_________________________________________________________________\n",
      "dropout_52 (Dropout)         (None, 99, 99, 16)        0         \n",
      "_________________________________________________________________\n",
      "conv2d_75 (Conv2D)           (None, 98, 98, 32)        2080      \n",
      "_________________________________________________________________\n",
      "max_pooling2d_62 (MaxPooling (None, 49, 49, 32)        0         \n",
      "_________________________________________________________________\n",
      "batch_normalization_64 (Batc (None, 49, 49, 32)        128       \n",
      "_________________________________________________________________\n",
      "dropout_53 (Dropout)         (None, 49, 49, 32)        0         \n",
      "_________________________________________________________________\n",
      "conv2d_76 (Conv2D)           (None, 48, 48, 64)        8256      \n",
      "_________________________________________________________________\n",
      "max_pooling2d_63 (MaxPooling (None, 24, 24, 64)        0         \n",
      "_________________________________________________________________\n",
      "batch_normalization_65 (Batc (None, 24, 24, 64)        256       \n",
      "_________________________________________________________________\n",
      "flatten_19 (Flatten)         (None, 36864)             0         \n",
      "_________________________________________________________________\n",
      "dense_71 (Dense)             (None, 64)                2359360   \n",
      "_________________________________________________________________\n",
      "dense_72 (Dense)             (None, 32)                2080      \n",
      "_________________________________________________________________\n",
      "dense_73 (Dense)             (None, 16)                528       \n",
      "_________________________________________________________________\n",
      "dense_74 (Dense)             (None, 1)                 17        \n",
      "=================================================================\n",
      "Total params: 2,372,977\n",
      "Trainable params: 2,372,753\n",
      "Non-trainable params: 224\n",
      "_________________________________________________________________\n"
     ]
    }
   ],
   "source": [
    "\n",
    "input = Input(shape=(200,200,3))\n",
    "conv1 = Conv2D(16,(2,2),activation=\"relu\")(input)\n",
    "pool1 = MaxPool2D((2,2))(conv1)\n",
    "batch1 = BatchNormalization()(pool1)\n",
    "Dropout1 = Dropout(0.5)(batch1)\n",
    "\n",
    "conv2 = Conv2D(32,(2,2),activation=\"relu\")(Dropout1)\n",
    "pool2 = MaxPool2D((2,2))(conv2)\n",
    "batch2 = BatchNormalization()(pool2)\n",
    "Dropout2 = Dropout(0.5)(batch2)\n",
    "\n",
    "\n",
    "conv3 = Conv2D(64,(2,2),activation=\"relu\")(Dropout2)\n",
    "pool3 = MaxPool2D((2,2))(conv3)\n",
    "batch3 = BatchNormalization()(pool3)\n",
    "Dropout3 = Dropout(0.5)(batch3)\n",
    "\n",
    "flt = Flatten()(batch3)\n",
    "age_l = Dense(64,activation=\"relu\")(flt)\n",
    "age_l = Dense(32,activation=\"relu\")(age_l)\n",
    "age_l = Dense(16,activation=\"relu\")(age_l)\n",
    "age_l = Dense(1,activation=\"sigmoid\")(age_l)\n",
    "\n",
    "model = Model(inputs=input,outputs= age_l)\n",
    "model.summary()\n"
   ]
  },
  {
   "cell_type": "code",
   "execution_count": null,
   "id": "0c18de26",
   "metadata": {},
   "outputs": [],
   "source": [
    "model.compile(optimizer=\"adam\",loss=\"mse\",metrics=['mae'])\n",
    "model_CNN  = model.fit(x_train, y_train,\n",
    "                        validation_split = 0.1,\n",
    "                        batch_size = 128,\n",
    "                        epochs=100)\n",
    "model.save(\"Agemodel1.h5\")"
   ]
  },
  {
   "cell_type": "code",
   "execution_count": null,
   "id": "b815c9e7",
   "metadata": {},
   "outputs": [],
   "source": [
    "# Test model\n",
    "test_model = model.evaluate(x_test, y_test)"
   ]
  },
  {
   "cell_type": "code",
   "execution_count": null,
   "id": "2453a416",
   "metadata": {},
   "outputs": [],
   "source": [
    "model.save(\"modelAgeregression1.h5\")"
   ]
  },
  {
   "cell_type": "code",
   "execution_count": null,
   "id": "e3ea539f",
   "metadata": {},
   "outputs": [],
   "source": [
    "from sklearn.metrics import mean_absolute_error\n",
    "predicted = model.predict(x_test)\n",
    "mse=mean_absolute_error(y_test, predicted)"
   ]
  },
  {
   "cell_type": "code",
   "execution_count": null,
   "id": "fb424c4d",
   "metadata": {},
   "outputs": [],
   "source": []
  }
 ],
 "metadata": {
  "kernelspec": {
   "display_name": "Python 3",
   "language": "python",
   "name": "python3"
  },
  "language_info": {
   "codemirror_mode": {
    "name": "ipython",
    "version": 3
   },
   "file_extension": ".py",
   "mimetype": "text/x-python",
   "name": "python",
   "nbconvert_exporter": "python",
   "pygments_lexer": "ipython3",
   "version": "3.8.8"
  }
 },
 "nbformat": 4,
 "nbformat_minor": 5
}
